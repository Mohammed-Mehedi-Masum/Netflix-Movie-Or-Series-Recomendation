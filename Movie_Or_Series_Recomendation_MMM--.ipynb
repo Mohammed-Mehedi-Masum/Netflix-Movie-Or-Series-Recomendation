{
 "cells": [
  {
   "cell_type": "markdown",
   "id": "fd0a30d4",
   "metadata": {},
   "source": [
    "### Import Relevant Library"
   ]
  },
  {
   "cell_type": "code",
   "execution_count": null,
   "id": "b4307654",
   "metadata": {},
   "outputs": [],
   "source": [
    "import numpy as np\n",
    "import pandas as pd\n",
    "import matplotlib.pyplot as plt\n",
    "import seaborn as sns\n",
    "import warnings\n",
    "warnings.filterwarnings('ignore')"
   ]
  },
  {
   "cell_type": "markdown",
   "id": "8d1a2bb5",
   "metadata": {},
   "source": [
    "### Loading Dataset"
   ]
  },
  {
   "cell_type": "code",
   "execution_count": null,
   "id": "cb886d7e",
   "metadata": {},
   "outputs": [],
   "source": [
    "train_df = pd.read_csv(\"netflix_titles.csv\")"
   ]
  },
  {
   "cell_type": "markdown",
   "id": "0a9833b5",
   "metadata": {},
   "source": [
    "### Basic Understanding of Data"
   ]
  },
  {
   "cell_type": "code",
   "execution_count": null,
   "id": "36f48250",
   "metadata": {},
   "outputs": [],
   "source": [
    "train_df.shape"
   ]
  },
  {
   "cell_type": "code",
   "execution_count": null,
   "id": "d6d8f236",
   "metadata": {},
   "outputs": [],
   "source": [
    "train_df.head()"
   ]
  },
  {
   "cell_type": "code",
   "execution_count": null,
   "id": "de875969",
   "metadata": {},
   "outputs": [],
   "source": [
    "train_df.columns"
   ]
  },
  {
   "cell_type": "code",
   "execution_count": null,
   "id": "979c4586",
   "metadata": {},
   "outputs": [],
   "source": [
    "train_df.describe()"
   ]
  },
  {
   "cell_type": "code",
   "execution_count": null,
   "id": "a2bb409e",
   "metadata": {},
   "outputs": [],
   "source": [
    "train_df.describe(include='object')"
   ]
  },
  {
   "cell_type": "code",
   "execution_count": null,
   "id": "5c201d8c",
   "metadata": {},
   "outputs": [],
   "source": [
    "train_df.info()"
   ]
  },
  {
   "cell_type": "markdown",
   "id": "ef4d8eeb",
   "metadata": {},
   "source": [
    "### Exploratory Data Analysis (EDA) and Feature Engineering"
   ]
  },
  {
   "cell_type": "code",
   "execution_count": null,
   "id": "5139eb43",
   "metadata": {},
   "outputs": [],
   "source": [
    "data = train_df.copy()"
   ]
  },
  {
   "cell_type": "code",
   "execution_count": null,
   "id": "79eb977c",
   "metadata": {},
   "outputs": [],
   "source": [
    "data.head() "
   ]
  },
  {
   "cell_type": "code",
   "execution_count": null,
   "id": "a07d168c",
   "metadata": {},
   "outputs": [],
   "source": [
    "from dateutil import parser\n",
    "data['date_added'] = data['date_added'].apply(lambda x: parser.parse(x, fuzzy=True) if pd.notnull(x) else None)"
   ]
  },
  {
   "cell_type": "code",
   "execution_count": null,
   "id": "b024da2c",
   "metadata": {},
   "outputs": [],
   "source": [
    "# This code uses the parser.parse function from the dateutil library with the fuzzy=True parameter,\n",
    "# which allows it to automatically detect and parse various date formats. The apply function is used \n",
    "# to apply this parsing function to each element in the 'date_added' column."
   ]
  },
  {
   "cell_type": "code",
   "execution_count": null,
   "id": "a5f914a2",
   "metadata": {},
   "outputs": [],
   "source": [
    "data.dtypes"
   ]
  },
  {
   "cell_type": "code",
   "execution_count": null,
   "id": "420684b4",
   "metadata": {},
   "outputs": [],
   "source": [
    "data['data_added_day'] = data['date_added'].dt.day"
   ]
  },
  {
   "cell_type": "code",
   "execution_count": null,
   "id": "b0ba8589",
   "metadata": {},
   "outputs": [],
   "source": [
    "data['data_added_month'] = data['date_added'].dt.month"
   ]
  },
  {
   "cell_type": "code",
   "execution_count": null,
   "id": "f78e7b0e",
   "metadata": {},
   "outputs": [],
   "source": [
    "data['data_added_year'] = data['date_added'].dt.year"
   ]
  },
  {
   "cell_type": "code",
   "execution_count": null,
   "id": "a07ce05d",
   "metadata": {},
   "outputs": [],
   "source": [
    "data.head()"
   ]
  },
  {
   "cell_type": "code",
   "execution_count": null,
   "id": "002b047a",
   "metadata": {},
   "outputs": [],
   "source": [
    "data.drop(['date_added'], axis=1, inplace=True)"
   ]
  },
  {
   "cell_type": "code",
   "execution_count": null,
   "id": "55ca1c3e",
   "metadata": {},
   "outputs": [],
   "source": [
    "data.head()"
   ]
  },
  {
   "cell_type": "code",
   "execution_count": null,
   "id": "96982e52",
   "metadata": {},
   "outputs": [],
   "source": [
    "data.dtypes"
   ]
  },
  {
   "cell_type": "code",
   "execution_count": null,
   "id": "b6df2f7c",
   "metadata": {},
   "outputs": [],
   "source": [
    "# Visualizing Target Feature 'Type'"
   ]
  },
  {
   "cell_type": "code",
   "execution_count": null,
   "id": "1621b7e5",
   "metadata": {},
   "outputs": [],
   "source": [
    "plt.figure(figsize=(10, 6)) \n",
    "plt.pie(data['type'].value_counts(), labels=data['type'].value_counts().keys(), explode=[0.1,0.0],autopct='%1.1f%%', textprops={'fontsize': 20, 'fontweight': 'bold'}, colors=['g', 'm'], shadow=True) \n",
    "plt.title('Type Feature Distribution')\n",
    "plt.legend(loc = 1)\n",
    "plt.show()"
   ]
  },
  {
   "cell_type": "code",
   "execution_count": null,
   "id": "d17fd7e5",
   "metadata": {},
   "outputs": [],
   "source": [
    "data.head()"
   ]
  },
  {
   "cell_type": "code",
   "execution_count": null,
   "id": "ee306f71",
   "metadata": {},
   "outputs": [],
   "source": [
    "#  How many unique show IDs are there?"
   ]
  },
  {
   "cell_type": "code",
   "execution_count": null,
   "id": "378971d1",
   "metadata": {},
   "outputs": [],
   "source": [
    "unique_show_ids = data['show_id'].nunique()\n",
    "print(f\"There are {unique_show_ids} unique show IDs.\")\n",
    "\n",
    "# Plot a count plot for the unique show IDs\n",
    "show_id_counts = data['show_id'].value_counts()\n",
    "plt.figure(figsize=(10, 6))\n",
    "sns.countplot(x=show_id_counts.values, color='purple')\n",
    "plt.xlabel('Number of Appearances')\n",
    "plt.ylabel('Number of Unique IDs')\n",
    "plt.title('Distribution of Unique Show IDs')\n",
    "plt.show()"
   ]
  },
  {
   "cell_type": "code",
   "execution_count": null,
   "id": "22f27f36",
   "metadata": {},
   "outputs": [],
   "source": [
    " # What are the top 10 most common titles in the dataset?"
   ]
  },
  {
   "cell_type": "code",
   "execution_count": null,
   "id": "0316eede",
   "metadata": {},
   "outputs": [],
   "source": [
    "top_titles = data['title'].value_counts().head(10)\n",
    "print(\"Top 10 most common titles:\")\n",
    "print(top_titles)\n",
    "\n",
    "# Plot a bar plot for the top 10 most common titles\n",
    "plt.figure(figsize=(12, 6))\n",
    "sns.barplot(x=top_titles.index, y=top_titles.values, palette='Set2')\n",
    "plt.xlabel('Title')\n",
    "plt.ylabel('Number of Appearances')\n",
    "plt.title('Top 10 Most Common Titles')\n",
    "plt.xticks(rotation=45, ha='right')\n",
    "plt.tight_layout()\n",
    "plt.show()"
   ]
  },
  {
   "cell_type": "code",
   "execution_count": null,
   "id": "c835db8c",
   "metadata": {},
   "outputs": [],
   "source": [
    "# Who are the top 10 directors with the most content?"
   ]
  },
  {
   "cell_type": "code",
   "execution_count": null,
   "id": "38b77e72",
   "metadata": {},
   "outputs": [],
   "source": [
    "top_directors = data['director'].value_counts().head(10)\n",
    "print(\"Top 10 directors with the most content:\")\n",
    "print(top_directors)\n",
    "\n",
    "# Plot a bar plot for the top 10 directors\n",
    "plt.figure(figsize=(12, 6))\n",
    "sns.barplot(x=top_directors.index, y=top_directors.values, palette='Set1')\n",
    "plt.xlabel('Director Name')\n",
    "plt.ylabel('Number of Shows')\n",
    "plt.title('Top 10 Directors Distribution')\n",
    "plt.xticks(rotation=45, ha='right')\n",
    "plt.tight_layout()\n",
    "plt.show()"
   ]
  },
  {
   "cell_type": "code",
   "execution_count": null,
   "id": "11f6f829",
   "metadata": {},
   "outputs": [],
   "source": [
    "# Who are the top 10 most common cast members?"
   ]
  },
  {
   "cell_type": "code",
   "execution_count": null,
   "id": "3f695c2b",
   "metadata": {},
   "outputs": [],
   "source": [
    "top_cast = data['cast'].value_counts().head(10)\n",
    "print(\"Top 10 most common cast members:\")\n",
    "print(top_cast)\n",
    "\n",
    "# Plot a bar plot for the top 10 most common cast members\n",
    "plt.figure(figsize=(12, 6))\n",
    "sns.barplot(x=top_cast.index, y=top_cast.values, palette='muted')\n",
    "plt.xlabel('Cast Members')\n",
    "plt.ylabel('Number of Appearances')\n",
    "plt.title('Top 10 Most Common Cast Members')\n",
    "plt.xticks(rotation=45, ha='right')\n",
    "plt.tight_layout()\n",
    "plt.show()"
   ]
  },
  {
   "cell_type": "code",
   "execution_count": null,
   "id": "c89785b9",
   "metadata": {},
   "outputs": [],
   "source": [
    "#  Which countries are most represented in the dataset?"
   ]
  },
  {
   "cell_type": "code",
   "execution_count": null,
   "id": "cb926d57",
   "metadata": {},
   "outputs": [],
   "source": [
    "top_countries = data['country'].value_counts().head(10)\n",
    "print(\"Top 10 countries represented in the dataset:\")\n",
    "print(top_countries)\n",
    "\n",
    "# Plot a bar plot for the most represented countries\n",
    "plt.figure(figsize=(12, 6))\n",
    "sns.barplot(x=top_countries.index, y=top_countries.values,  palette='viridis')\n",
    "plt.xlabel('Countries')\n",
    "plt.ylabel('Number of Contents')\n",
    "plt.title('Top 10 Countries Represented in the Dataset')\n",
    "plt.xticks(rotation=45, ha='right')\n",
    "plt.tight_layout()\n",
    "plt.show()"
   ]
  },
  {
   "cell_type": "code",
   "execution_count": null,
   "id": "3b7ed5b2",
   "metadata": {},
   "outputs": [],
   "source": [
    "# What is the distribution of content added dates according year?"
   ]
  },
  {
   "cell_type": "code",
   "execution_count": null,
   "id": "a9a6d232",
   "metadata": {},
   "outputs": [],
   "source": [
    "plt.figure(figsize=(12, 6))\n",
    "sns.countplot(x='data_added_year', data=data, order=data['data_added_year'].value_counts().index)\n",
    "plt.title('Distribution of Content Added Dates')\n",
    "plt.xticks(rotation=45, ha='right')\n",
    "plt.show() "
   ]
  },
  {
   "cell_type": "code",
   "execution_count": null,
   "id": "d4b08912",
   "metadata": {},
   "outputs": [],
   "source": [
    "# What is the distribution of content added dates according month?"
   ]
  },
  {
   "cell_type": "code",
   "execution_count": null,
   "id": "6d4ce3a4",
   "metadata": {},
   "outputs": [],
   "source": [
    "plt.figure(figsize=(12, 6))\n",
    "sns.countplot(x='data_added_month', data=data, order=data['data_added_month'].value_counts().index)\n",
    "plt.title('Distribution of Content Added Dates')\n",
    "plt.xticks(rotation=45, ha='right')\n",
    "plt.show() "
   ]
  },
  {
   "cell_type": "code",
   "execution_count": null,
   "id": "763b18fd",
   "metadata": {},
   "outputs": [],
   "source": [
    "# What is the distribution of release years for content?"
   ]
  },
  {
   "cell_type": "code",
   "execution_count": null,
   "id": "442d9a7a",
   "metadata": {},
   "outputs": [],
   "source": [
    "plt.figure(figsize=(12, 6))\n",
    "plt.hist(data['release_year'], bins=20, color='skyblue', edgecolor='black')\n",
    "plt.title('Distribution of Release Years')\n",
    "plt.xlabel('Release Year')\n",
    "plt.ylabel('Count')\n",
    "plt.xticks(rotation=45, ha='right')\n",
    "plt.tight_layout()\n",
    "plt.show()"
   ]
  },
  {
   "cell_type": "code",
   "execution_count": null,
   "id": "fcd18c11",
   "metadata": {},
   "outputs": [],
   "source": [
    " # What is the distribution of content ratings?"
   ]
  },
  {
   "cell_type": "code",
   "execution_count": null,
   "id": "2cfb7ebf",
   "metadata": {},
   "outputs": [],
   "source": [
    "plt.figure(figsize=(10, 6))\n",
    "sns.countplot(x='rating', data=data, order=data['rating'].value_counts().index)\n",
    "plt.title('Distribution of Content Ratings')\n",
    "plt.xticks(rotation=45, ha='right')\n",
    "plt.show()"
   ]
  },
  {
   "cell_type": "code",
   "execution_count": null,
   "id": "927994bd",
   "metadata": {},
   "outputs": [],
   "source": [
    "# What is the distribution of content durations for movies and TV shows?"
   ]
  },
  {
   "cell_type": "code",
   "execution_count": null,
   "id": "68930d9d",
   "metadata": {},
   "outputs": [],
   "source": [
    "subset_data = data.head(100)\n",
    "\n",
    "# Create a histogram plot for the distribution of content durations\n",
    "plt.figure(figsize=(10, 6))\n",
    "sns.histplot(x='duration', data=subset_data,multiple='stack', hue='type', bins=20, palette='viridis')\n",
    "plt.title('Distribution of Content Durations (First 100 Rows)')\n",
    "plt.xticks(rotation=90, ha='right')\n",
    "plt.show() "
   ]
  },
  {
   "cell_type": "code",
   "execution_count": null,
   "id": "91b7440a",
   "metadata": {},
   "outputs": [],
   "source": [
    "# What are the top 10 most common content categories?"
   ]
  },
  {
   "cell_type": "code",
   "execution_count": null,
   "id": "d2e48c1b",
   "metadata": {},
   "outputs": [],
   "source": [
    "top_categories = data['listed_in'].value_counts().head(10)\n",
    "print(\"Top 10 most common content categories:\")\n",
    "print(top_categories)\n",
    "\n",
    "plt.figure(figsize=(12, 6))\n",
    "sns.barplot(x=top_categories.values, y=top_categories.index, palette='Set2')\n",
    "plt.xlabel('Number of Appearances')\n",
    "plt.ylabel('Content Categories')\n",
    "plt.title('Top 10 Most Common Content Categories')\n",
    "plt.tight_layout()\n",
    "plt.show()"
   ]
  },
  {
   "cell_type": "code",
   "execution_count": null,
   "id": "34554b56",
   "metadata": {},
   "outputs": [],
   "source": [
    "# What are the word frequencies in content descriptions?\n",
    "# Most common words in Description "
   ]
  },
  {
   "cell_type": "code",
   "execution_count": null,
   "id": "7b5e52dd",
   "metadata": {},
   "outputs": [],
   "source": [
    "from wordcloud import WordCloud\n",
    "\n",
    "text = ' '.join(data['description'].dropna())\n",
    "wordcloud = WordCloud(width=800, height=400, background_color='orange').generate(text)\n",
    "\n",
    "plt.figure(figsize=(10, 6))\n",
    "plt.imshow(wordcloud, interpolation='bilinear')\n",
    "plt.axis('off')\n",
    "plt.title('Word Cloud of Content Descriptions')\n",
    "plt.show() "
   ]
  },
  {
   "cell_type": "code",
   "execution_count": null,
   "id": "f8341d27",
   "metadata": {},
   "outputs": [],
   "source": [
    "# Plot the distribution of genres"
   ]
  },
  {
   "cell_type": "code",
   "execution_count": null,
   "id": "59125afb",
   "metadata": {},
   "outputs": [],
   "source": [
    "# Filter out non-string values and use explode to transform the 'genres' column\n",
    "genre_counts = data['listed_in'].dropna().apply(lambda x: x.split(', ')).explode().value_counts()\n",
    "\n",
    "plt.figure(figsize=(12, 8))\n",
    "sns.barplot(x=genre_counts.index, y=genre_counts.values, palette='Set1')\n",
    "plt.xlabel('Genres')\n",
    "plt.ylabel('Count')\n",
    "plt.title('Distribution of Genres')\n",
    "plt.xticks(rotation=45, ha='right', fontsize=10)\n",
    "plt.tight_layout()\n",
    "plt.show()"
   ]
  },
  {
   "cell_type": "code",
   "execution_count": null,
   "id": "83a84c41",
   "metadata": {},
   "outputs": [],
   "source": [
    "%%html\n",
    "\n",
    "<div style=\"background-color: purple; padding: 20px; text-align: center;\">\n",
    "    <h2>Top 10 Highest-Rated Shows/Movies</h2>\n",
    "</div>\n"
   ]
  },
  {
   "cell_type": "code",
   "execution_count": null,
   "id": "06e9db6d",
   "metadata": {},
   "outputs": [],
   "source": [
    "# Top 10 Highest-Rated Shows/Movies"
   ]
  },
  {
   "cell_type": "code",
   "execution_count": null,
   "id": "8fc6fd01",
   "metadata": {},
   "outputs": [],
   "source": [
    "sorted_df = data.sort_values(by='rating', ascending=False).head(10)\n",
    "\n",
    "plt.figure(figsize=(12, 6))\n",
    "plt.barh(sorted_df['title'], sorted_df['rating'], color = 'purple')\n",
    "plt.xlabel('Rating')\n",
    "plt.ylabel('Show/Movie Title')\n",
    "plt.title('Top 10 Highest-Rated Shows/Movies')\n",
    "plt.gca().invert_yaxis() \n",
    "plt.tight_layout()\n",
    "plt.show()"
   ]
  },
  {
   "cell_type": "markdown",
   "id": "eb6c3899",
   "metadata": {},
   "source": [
    "### Data Pre-processing or Cleaning"
   ]
  },
  {
   "cell_type": "code",
   "execution_count": null,
   "id": "8cc1c07f",
   "metadata": {},
   "outputs": [],
   "source": [
    "# Checking Duplicates Data"
   ]
  },
  {
   "cell_type": "code",
   "execution_count": null,
   "id": "d7a4a793",
   "metadata": {},
   "outputs": [],
   "source": [
    "data.duplicated().sum()"
   ]
  },
  {
   "cell_type": "code",
   "execution_count": null,
   "id": "3083db3f",
   "metadata": {},
   "outputs": [],
   "source": [
    "\"\"\"\n",
    "Observation\n",
    "💡 We can observe that we don't have any duplicates values in our training datasets.\n",
    "💡 So we dont have any type of Data Lekage in our DataSet.\n",
    "\"\"\""
   ]
  },
  {
   "cell_type": "code",
   "execution_count": null,
   "id": "1e8849c7",
   "metadata": {},
   "outputs": [],
   "source": [
    "# Checking Cardinality of Categorical features"
   ]
  },
  {
   "cell_type": "code",
   "execution_count": null,
   "id": "303a5dde",
   "metadata": {},
   "outputs": [],
   "source": [
    "data.select_dtypes(include='object').nunique()"
   ]
  },
  {
   "cell_type": "code",
   "execution_count": null,
   "id": "57e846da",
   "metadata": {},
   "outputs": [],
   "source": [
    "\"\"\"\n",
    "Observation\n",
    "💡 We normally drop the features having high cardinality but in this project we will do Feature\n",
    "Engineering and will create new features from this features.\n",
    "💡 Because more amount of data leads to better predictions by model.\n",
    "\"\"\""
   ]
  },
  {
   "cell_type": "markdown",
   "id": "3b7d55f5",
   "metadata": {},
   "source": [
    "### Lets deal with missing values"
   ]
  },
  {
   "cell_type": "code",
   "execution_count": null,
   "id": "da5b826a",
   "metadata": {},
   "outputs": [],
   "source": [
    "data.isnull().sum() "
   ]
  },
  {
   "cell_type": "code",
   "execution_count": null,
   "id": "1092964d",
   "metadata": {},
   "outputs": [],
   "source": [
    "# Checking Total Number & Percentage of Missing Values in Training Dataset"
   ]
  },
  {
   "cell_type": "code",
   "execution_count": null,
   "id": "06c9d3cf",
   "metadata": {},
   "outputs": [],
   "source": [
    "df = (data.isnull().sum()[data.isnull().sum() > 0]).to_frame().rename(columns={0:'Number of Missing Values'})\n",
    "df['% of Missing Values'] = round(100 * data.isnull().sum()[data.isnull().sum() > 0] / len(data), 2)"
   ]
  },
  {
   "cell_type": "code",
   "execution_count": null,
   "id": "0db4f0f6",
   "metadata": {},
   "outputs": [],
   "source": [
    "\"\"\"\n",
    "train_df.isnull().sum(): This counts the number of missing (NaN) values in each column of \n",
    "train_df.\n",
    "\n",
    "[train_df.isnull().sum() > 0]: This filters the result to only include columns with more than 0 \n",
    "missing values.\n",
    "\n",
    ".to_frame(): This converts the filtered result into a DataFrame.\n",
    "\n",
    ".rename(columns={0:'Number of Missing Values'}): This renames the column with index 0 to \"Number of \n",
    "Missing Values\".\n",
    "\"\"\""
   ]
  },
  {
   "cell_type": "code",
   "execution_count": null,
   "id": "858cc4c0",
   "metadata": {},
   "outputs": [],
   "source": [
    "df"
   ]
  },
  {
   "cell_type": "code",
   "execution_count": null,
   "id": "8bc38648",
   "metadata": {},
   "outputs": [],
   "source": [
    "# Visualizing Missing Numbers"
   ]
  },
  {
   "cell_type": "code",
   "execution_count": null,
   "id": "e0f7c064",
   "metadata": {},
   "outputs": [],
   "source": [
    "import missingno as msno"
   ]
  },
  {
   "cell_type": "code",
   "execution_count": null,
   "id": "6c2e72dc",
   "metadata": {},
   "outputs": [],
   "source": [
    "msno.bar(data, color='C1', fontsize=22)\n",
    "plt.show()"
   ]
  },
  {
   "cell_type": "code",
   "execution_count": null,
   "id": "88f8bb8e",
   "metadata": {},
   "outputs": [],
   "source": [
    "# Another way to visualize missing Values"
   ]
  },
  {
   "cell_type": "code",
   "execution_count": null,
   "id": "11f0d1aa",
   "metadata": {},
   "outputs": [],
   "source": [
    "plt.figure(figsize=(14, 8))\n",
    "sns.heatmap(data.isnull(), cmap='summer')\n",
    "plt.show()"
   ]
  },
  {
   "cell_type": "code",
   "execution_count": null,
   "id": "487aaa92",
   "metadata": {},
   "outputs": [],
   "source": [
    "data.dtypes"
   ]
  },
  {
   "cell_type": "code",
   "execution_count": null,
   "id": "0de12deb",
   "metadata": {},
   "outputs": [],
   "source": [
    "# Handling Missing Values."
   ]
  },
  {
   "cell_type": "code",
   "execution_count": null,
   "id": "f67731d2",
   "metadata": {},
   "outputs": [],
   "source": [
    "cat_cols = [col for col in data.columns if data[col].dtype==\"object\"]\n",
    "num_cols = [col for col in data.columns if data[col].dtype!=\"object\"] "
   ]
  },
  {
   "cell_type": "code",
   "execution_count": null,
   "id": "3d783c8d",
   "metadata": {},
   "outputs": [],
   "source": [
    "cat_cols"
   ]
  },
  {
   "cell_type": "code",
   "execution_count": null,
   "id": "a6e9582a",
   "metadata": {},
   "outputs": [],
   "source": [
    "num_cols"
   ]
  },
  {
   "cell_type": "code",
   "execution_count": null,
   "id": "7d94ea49",
   "metadata": {},
   "outputs": [],
   "source": [
    "# Using Simple Imputer Library to Fill Missing Values"
   ]
  },
  {
   "cell_type": "code",
   "execution_count": null,
   "id": "3ae4457b",
   "metadata": {},
   "outputs": [],
   "source": [
    "from sklearn.impute import SimpleImputer"
   ]
  },
  {
   "cell_type": "code",
   "execution_count": null,
   "id": "b2692442",
   "metadata": {},
   "outputs": [],
   "source": [
    "imputer1 = SimpleImputer(strategy=\"most_frequent\")   ##To fill Categorical Features.\n",
    "imputer2 = SimpleImputer(strategy=\"median\")            ##To fill numeircal features."
   ]
  },
  {
   "cell_type": "code",
   "execution_count": null,
   "id": "d8469995",
   "metadata": {},
   "outputs": [],
   "source": [
    "def fill_missing_no(df):\n",
    "    df[cat_cols] = imputer1.fit_transform(df[cat_cols])\n",
    "    df[num_cols] = imputer2.fit_transform(df[num_cols])"
   ]
  },
  {
   "cell_type": "code",
   "execution_count": null,
   "id": "d63e193c",
   "metadata": {},
   "outputs": [],
   "source": [
    "fill_missing_no(data)"
   ]
  },
  {
   "cell_type": "code",
   "execution_count": null,
   "id": "ccf86261",
   "metadata": {},
   "outputs": [],
   "source": [
    "# Missing numbers left in train_df"
   ]
  },
  {
   "cell_type": "code",
   "execution_count": null,
   "id": "b02c2005",
   "metadata": {},
   "outputs": [],
   "source": [
    "data.isnull().sum()"
   ]
  },
  {
   "cell_type": "markdown",
   "id": "2c347799",
   "metadata": {},
   "source": [
    "### Feature Encoding"
   ]
  },
  {
   "cell_type": "code",
   "execution_count": null,
   "id": "877c9836",
   "metadata": {},
   "outputs": [],
   "source": [
    "# For Nominal data(have No order)  ==> One hot encoding\n",
    "# For Ordinal data(have order) ==> Label enconding"
   ]
  },
  {
   "cell_type": "code",
   "execution_count": null,
   "id": "1aceaa99",
   "metadata": {},
   "outputs": [],
   "source": [
    "cat_cols"
   ]
  },
  {
   "cell_type": "code",
   "execution_count": null,
   "id": "486f6977",
   "metadata": {},
   "outputs": [],
   "source": [
    "num_cols"
   ]
  },
  {
   "cell_type": "code",
   "execution_count": null,
   "id": "97e10870",
   "metadata": {},
   "outputs": [],
   "source": [
    "data.dtypes"
   ]
  },
  {
   "cell_type": "code",
   "execution_count": null,
   "id": "baabb7ca",
   "metadata": {},
   "outputs": [],
   "source": [
    "data['show_id'].nunique() # Label encoding"
   ]
  },
  {
   "cell_type": "code",
   "execution_count": null,
   "id": "cac6cbf3",
   "metadata": {},
   "outputs": [],
   "source": [
    "data['type'].unique()"
   ]
  },
  {
   "cell_type": "code",
   "execution_count": null,
   "id": "e2126cd4",
   "metadata": {},
   "outputs": [],
   "source": [
    "data['type'].nunique()"
   ]
  },
  {
   "cell_type": "code",
   "execution_count": null,
   "id": "cebd8676",
   "metadata": {},
   "outputs": [],
   "source": [
    "data['type'].value_counts()"
   ]
  },
  {
   "cell_type": "code",
   "execution_count": null,
   "id": "1d11ff1c",
   "metadata": {},
   "outputs": [],
   "source": [
    "data['title'].unique()"
   ]
  },
  {
   "cell_type": "code",
   "execution_count": null,
   "id": "47db94c7",
   "metadata": {},
   "outputs": [],
   "source": [
    "data['title'].nunique() # Target guided encoding"
   ]
  },
  {
   "cell_type": "code",
   "execution_count": null,
   "id": "e10ee89f",
   "metadata": {},
   "outputs": [],
   "source": [
    "data['director'].unique()"
   ]
  },
  {
   "cell_type": "code",
   "execution_count": null,
   "id": "5c9d6429",
   "metadata": {},
   "outputs": [],
   "source": [
    "data['director'].nunique() # Target guided encoding"
   ]
  },
  {
   "cell_type": "code",
   "execution_count": null,
   "id": "f852cf64",
   "metadata": {},
   "outputs": [],
   "source": [
    "data['cast'].unique()"
   ]
  },
  {
   "cell_type": "code",
   "execution_count": null,
   "id": "696f685c",
   "metadata": {},
   "outputs": [],
   "source": [
    "data['cast'].nunique() # Target guided encoding"
   ]
  },
  {
   "cell_type": "code",
   "execution_count": null,
   "id": "5a6c7ae4",
   "metadata": {},
   "outputs": [],
   "source": [
    "data['country'].unique()"
   ]
  },
  {
   "cell_type": "code",
   "execution_count": null,
   "id": "4b133854",
   "metadata": {},
   "outputs": [],
   "source": [
    "data['country'].nunique() # Target guided encoding"
   ]
  },
  {
   "cell_type": "code",
   "execution_count": null,
   "id": "b4ce77e5",
   "metadata": {},
   "outputs": [],
   "source": [
    "data['rating'].unique()"
   ]
  },
  {
   "cell_type": "code",
   "execution_count": null,
   "id": "2f2c2228",
   "metadata": {},
   "outputs": [],
   "source": [
    "data['rating'].nunique() # Target guided encoding"
   ]
  },
  {
   "cell_type": "code",
   "execution_count": null,
   "id": "ab0b92a8",
   "metadata": {},
   "outputs": [],
   "source": [
    "data['duration'].unique()"
   ]
  },
  {
   "cell_type": "code",
   "execution_count": null,
   "id": "88354db6",
   "metadata": {},
   "outputs": [],
   "source": [
    "data['duration'].nunique() # Target guided encoding"
   ]
  },
  {
   "cell_type": "code",
   "execution_count": null,
   "id": "c96de43a",
   "metadata": {},
   "outputs": [],
   "source": [
    "data['listed_in'].unique()"
   ]
  },
  {
   "cell_type": "code",
   "execution_count": null,
   "id": "7bcc426d",
   "metadata": {},
   "outputs": [],
   "source": [
    "data['listed_in'].nunique() # Target guided encoding"
   ]
  },
  {
   "cell_type": "code",
   "execution_count": null,
   "id": "6a5ebf92",
   "metadata": {},
   "outputs": [],
   "source": [
    "data['description'].unique()"
   ]
  },
  {
   "cell_type": "code",
   "execution_count": null,
   "id": "65d2866c",
   "metadata": {},
   "outputs": [],
   "source": [
    "data['description'].nunique() # Target guided encoding"
   ]
  },
  {
   "cell_type": "code",
   "execution_count": null,
   "id": "af4f2e51",
   "metadata": {},
   "outputs": [],
   "source": [
    "from sklearn.preprocessing import LabelEncoder"
   ]
  },
  {
   "cell_type": "code",
   "execution_count": null,
   "id": "cc02e366",
   "metadata": {},
   "outputs": [],
   "source": [
    "le = LabelEncoder()\n",
    "for col in ['show_id', 'type']:  # Label Encoding\n",
    "    data[col] = le.fit_transform(data[col])"
   ]
  },
  {
   "cell_type": "code",
   "execution_count": null,
   "id": "373aec80",
   "metadata": {},
   "outputs": [],
   "source": [
    "data.head(3)"
   ]
  },
  {
   "cell_type": "code",
   "execution_count": null,
   "id": "7143436e",
   "metadata": {},
   "outputs": [],
   "source": [
    "data.dtypes"
   ]
  },
  {
   "cell_type": "code",
   "execution_count": null,
   "id": "f688bd29",
   "metadata": {},
   "outputs": [],
   "source": [
    "def target_guided_encoding(i_col, t_col): # Target guided encoding\n",
    "    i_col_index = data.groupby([i_col])[t_col].mean().sort_values().index\n",
    "    i_col_dict = {key:index for index , key in enumerate(i_col_index , 0)}\n",
    "    data[i_col] = data[i_col].map(i_col_dict) "
   ]
  },
  {
   "cell_type": "code",
   "execution_count": null,
   "id": "edef7d56",
   "metadata": {},
   "outputs": [],
   "source": [
    "target_guided_encoding('title', 'type')"
   ]
  },
  {
   "cell_type": "code",
   "execution_count": null,
   "id": "f071a2a5",
   "metadata": {},
   "outputs": [],
   "source": [
    "data['title'].nunique()"
   ]
  },
  {
   "cell_type": "code",
   "execution_count": null,
   "id": "57114008",
   "metadata": {},
   "outputs": [],
   "source": [
    "target_guided_encoding('director', 'type')"
   ]
  },
  {
   "cell_type": "code",
   "execution_count": null,
   "id": "41e42b60",
   "metadata": {},
   "outputs": [],
   "source": [
    "target_guided_encoding('cast', 'type')"
   ]
  },
  {
   "cell_type": "code",
   "execution_count": null,
   "id": "df8eaee3",
   "metadata": {},
   "outputs": [],
   "source": [
    "target_guided_encoding('country', 'type')"
   ]
  },
  {
   "cell_type": "code",
   "execution_count": null,
   "id": "58865fc1",
   "metadata": {},
   "outputs": [],
   "source": [
    "data['country']"
   ]
  },
  {
   "cell_type": "code",
   "execution_count": null,
   "id": "a35ca701",
   "metadata": {},
   "outputs": [],
   "source": [
    "target_guided_encoding('rating', 'type')"
   ]
  },
  {
   "cell_type": "code",
   "execution_count": null,
   "id": "0b6a1f8f",
   "metadata": {},
   "outputs": [],
   "source": [
    "target_guided_encoding('duration', 'type')"
   ]
  },
  {
   "cell_type": "code",
   "execution_count": null,
   "id": "22b36707",
   "metadata": {},
   "outputs": [],
   "source": [
    "target_guided_encoding('listed_in', 'type')"
   ]
  },
  {
   "cell_type": "code",
   "execution_count": null,
   "id": "6a7c00ab",
   "metadata": {},
   "outputs": [],
   "source": [
    "target_guided_encoding('description', 'type')"
   ]
  },
  {
   "cell_type": "code",
   "execution_count": null,
   "id": "9ed62f66",
   "metadata": {},
   "outputs": [],
   "source": [
    "data.head()"
   ]
  },
  {
   "cell_type": "code",
   "execution_count": null,
   "id": "aa7716e7",
   "metadata": {},
   "outputs": [],
   "source": [
    "# data_a = pd.get_dummies(data['type'], prefix='type')"
   ]
  },
  {
   "cell_type": "code",
   "execution_count": null,
   "id": "276abd41",
   "metadata": {},
   "outputs": [],
   "source": [
    "# data_a"
   ]
  },
  {
   "cell_type": "markdown",
   "id": "4529ba4f",
   "metadata": {},
   "source": [
    "### Lets Perform outlier detection !"
   ]
  },
  {
   "cell_type": "code",
   "execution_count": null,
   "id": "666f3cb9",
   "metadata": {},
   "outputs": [],
   "source": [
    "def plot(df, col):\n",
    "    # Create a larger figure\n",
    "    fig, (ax1, ax2, ax3) = plt.subplots(3, 1, figsize=(10, 10))\n",
    "\n",
    "    # Plot the distribution with kde\n",
    "    sns.distplot(df[col], ax=ax1, color='b')\n",
    "    ax1.set_title(f'Distribution of {col}')\n",
    "\n",
    "    # Boxplot with custom whiskers\n",
    "    sns.boxplot(df[col], ax=ax2, whis=1.5, color='g')\n",
    "    ax2.set_title(f'Boxplot of {col}')\n",
    "\n",
    "    # Distribution without kde (histogram)\n",
    "    sns.histplot(df[col], ax=ax3, kde=False, bins=30, color='y')\n",
    "    ax3.set_title(f'Histogram of {col}')\n",
    "\n",
    "    # Apply log transformation if needed\n",
    "    if (df[col] > 0).all():  # Check if all values are positive to avoid issues with log transformation\n",
    "        ax1.set_yscale('log')\n",
    "        ax3.set_yscale('log')\n",
    "\n",
    "    plt.tight_layout()\n",
    "    plt.show()\n",
    "\n",
    "# Example usage:\n",
    "# plot(your_dataframe, 'your_column')"
   ]
  },
  {
   "cell_type": "code",
   "execution_count": null,
   "id": "78d3c52d",
   "metadata": {},
   "outputs": [],
   "source": [
    "plot(data, 'type')"
   ]
  },
  {
   "cell_type": "code",
   "execution_count": null,
   "id": "71152c5b",
   "metadata": {},
   "outputs": [],
   "source": [
    "q1 = data['type'].quantile(0.25)\n",
    "q3 = data['type'].quantile(0.75)\n",
    "\n",
    "iqr = q3- q1\n",
    "\n",
    "maximum = q3 + 1.5*iqr\n",
    "minimum = q1 - 1.5*iqr"
   ]
  },
  {
   "cell_type": "code",
   "execution_count": null,
   "id": "1ad560bb",
   "metadata": {},
   "outputs": [],
   "source": [
    "maximum"
   ]
  },
  {
   "cell_type": "code",
   "execution_count": null,
   "id": "759b66df",
   "metadata": {},
   "outputs": [],
   "source": [
    "minimum"
   ]
  },
  {
   "cell_type": "code",
   "execution_count": null,
   "id": "69837dd6",
   "metadata": {},
   "outputs": [],
   "source": [
    "[x for x in data['type'] if x> maximum or x<minimum] "
   ]
  },
  {
   "cell_type": "code",
   "execution_count": null,
   "id": "fa1b4f34",
   "metadata": {},
   "outputs": [],
   "source": [
    "len([x for x in data['type'] if x> maximum or x<minimum]) # so, no outlier"
   ]
  },
  {
   "cell_type": "markdown",
   "id": "4c07862e",
   "metadata": {},
   "source": [
    "### Lets Perform feature selection"
   ]
  },
  {
   "cell_type": "code",
   "execution_count": null,
   "id": "bf9bb356",
   "metadata": {},
   "outputs": [],
   "source": [
    "X = data.drop(['type'] , axis=1)"
   ]
  },
  {
   "cell_type": "code",
   "execution_count": null,
   "id": "93dcaaec",
   "metadata": {},
   "outputs": [],
   "source": [
    "y = data['type']"
   ]
  },
  {
   "cell_type": "code",
   "execution_count": null,
   "id": "43eeced8",
   "metadata": {},
   "outputs": [],
   "source": [
    "from sklearn.feature_selection import mutual_info_regression"
   ]
  },
  {
   "cell_type": "code",
   "execution_count": null,
   "id": "95cbcd48",
   "metadata": {},
   "outputs": [],
   "source": [
    "imp = mutual_info_regression(X, y)"
   ]
  },
  {
   "cell_type": "code",
   "execution_count": null,
   "id": "9d975eed",
   "metadata": {},
   "outputs": [],
   "source": [
    "imp"
   ]
  },
  {
   "cell_type": "code",
   "execution_count": null,
   "id": "fe0410b4",
   "metadata": {},
   "outputs": [],
   "source": [
    "imp_df = pd.DataFrame(imp , index=X.columns)"
   ]
  },
  {
   "cell_type": "code",
   "execution_count": null,
   "id": "84652b40",
   "metadata": {},
   "outputs": [],
   "source": [
    "imp_df"
   ]
  },
  {
   "cell_type": "code",
   "execution_count": null,
   "id": "e22d3a8a",
   "metadata": {},
   "outputs": [],
   "source": [
    "imp_df.columns = ['importance']"
   ]
  },
  {
   "cell_type": "code",
   "execution_count": null,
   "id": "29fef154",
   "metadata": {},
   "outputs": [],
   "source": [
    "imp_df"
   ]
  },
  {
   "cell_type": "code",
   "execution_count": null,
   "id": "f1611da9",
   "metadata": {},
   "outputs": [],
   "source": [
    "imp_df.sort_values(by='importance' , ascending=False)"
   ]
  },
  {
   "cell_type": "code",
   "execution_count": null,
   "id": "f9c9309e",
   "metadata": {},
   "outputs": [],
   "source": [
    "data.drop(['data_added_day', 'data_added_month'], axis = 1, inplace = True)"
   ]
  },
  {
   "cell_type": "code",
   "execution_count": null,
   "id": "8226467d",
   "metadata": {},
   "outputs": [],
   "source": [
    "data.dtypes"
   ]
  },
  {
   "cell_type": "code",
   "execution_count": null,
   "id": "744f47f7",
   "metadata": {},
   "outputs": [],
   "source": [
    "data['type'].unique()"
   ]
  },
  {
   "cell_type": "markdown",
   "id": "495d3dcd",
   "metadata": {},
   "source": [
    "### Feature Scaling"
   ]
  },
  {
   "cell_type": "code",
   "execution_count": null,
   "id": "d06d7c52",
   "metadata": {},
   "outputs": [],
   "source": [
    "from sklearn.preprocessing import StandardScaler\n",
    "scaler = StandardScaler()\n",
    "X_scaled = scaler.fit_transform(X)"
   ]
  },
  {
   "cell_type": "code",
   "execution_count": null,
   "id": "472928d5",
   "metadata": {},
   "outputs": [],
   "source": [
    "X_scaled"
   ]
  },
  {
   "cell_type": "markdown",
   "id": "b54cdcb8",
   "metadata": {},
   "source": [
    "### Lets Build ML model"
   ]
  },
  {
   "cell_type": "markdown",
   "id": "f95540f6",
   "metadata": {},
   "source": [
    "### split dataset into train & test"
   ]
  },
  {
   "cell_type": "code",
   "execution_count": null,
   "id": "bea20913",
   "metadata": {},
   "outputs": [],
   "source": [
    "from sklearn.model_selection import train_test_split"
   ]
  },
  {
   "cell_type": "code",
   "execution_count": null,
   "id": "9fc04b3c",
   "metadata": {},
   "outputs": [],
   "source": [
    "# Splitting Data For Model Which Don't Need Scaled Data."
   ]
  },
  {
   "cell_type": "code",
   "execution_count": null,
   "id": "5ec83fc7",
   "metadata": {},
   "outputs": [],
   "source": [
    "X_train, X_test, y_train, y_test = train_test_split(X, y, test_size=0.25, random_state=42)"
   ]
  },
  {
   "cell_type": "code",
   "execution_count": null,
   "id": "1945dd05",
   "metadata": {},
   "outputs": [],
   "source": [
    "X_train"
   ]
  },
  {
   "cell_type": "code",
   "execution_count": null,
   "id": "201e313a",
   "metadata": {},
   "outputs": [],
   "source": [
    "X_train.shape"
   ]
  },
  {
   "cell_type": "code",
   "execution_count": null,
   "id": "c1acef79",
   "metadata": {},
   "outputs": [],
   "source": [
    "y_train.shape"
   ]
  },
  {
   "cell_type": "code",
   "execution_count": null,
   "id": "0a688409",
   "metadata": {},
   "outputs": [],
   "source": [
    "# Splitting Data For Model Which Need Scaled Data."
   ]
  },
  {
   "cell_type": "code",
   "execution_count": null,
   "id": "91165057",
   "metadata": {},
   "outputs": [],
   "source": [
    "X_train1, X_test1, y_train1, y_test1 = train_test_split(X_scaled, y, test_size=0.25, random_state=42)"
   ]
  },
  {
   "cell_type": "code",
   "execution_count": null,
   "id": "46fcc0af",
   "metadata": {},
   "outputs": [],
   "source": [
    "X_train1"
   ]
  },
  {
   "cell_type": "code",
   "execution_count": null,
   "id": "efc5e941",
   "metadata": {},
   "outputs": [],
   "source": [
    "X_train1.shape"
   ]
  },
  {
   "cell_type": "code",
   "execution_count": null,
   "id": "e3ab954b",
   "metadata": {},
   "outputs": [],
   "source": [
    "y_train1.shape"
   ]
  },
  {
   "cell_type": "code",
   "execution_count": null,
   "id": "a84b2d02",
   "metadata": {},
   "outputs": [],
   "source": [
    "from sklearn.ensemble import RandomForestRegressor"
   ]
  },
  {
   "cell_type": "code",
   "execution_count": null,
   "id": "4fdac2dd",
   "metadata": {},
   "outputs": [],
   "source": [
    "ml_model = RandomForestRegressor()"
   ]
  },
  {
   "cell_type": "code",
   "execution_count": null,
   "id": "a470c7cf",
   "metadata": {},
   "outputs": [],
   "source": [
    "ml_model.fit(X_train , y_train)"
   ]
  },
  {
   "cell_type": "code",
   "execution_count": null,
   "id": "811b1734",
   "metadata": {},
   "outputs": [],
   "source": [
    "y_pred = ml_model.predict(X_test)"
   ]
  },
  {
   "cell_type": "code",
   "execution_count": null,
   "id": "75e8de75",
   "metadata": {},
   "outputs": [],
   "source": [
    "y_pred"
   ]
  },
  {
   "cell_type": "code",
   "execution_count": null,
   "id": "d9a74287",
   "metadata": {},
   "outputs": [],
   "source": [
    "from sklearn import metrics"
   ]
  },
  {
   "cell_type": "code",
   "execution_count": null,
   "id": "f83579ec",
   "metadata": {},
   "outputs": [],
   "source": [
    "metrics.r2_score(y_test , y_pred)"
   ]
  },
  {
   "cell_type": "markdown",
   "id": "62420b54",
   "metadata": {},
   "source": [
    "### How to automate ml pipeline & How to define your Evaluation metric.."
   ]
  },
  {
   "cell_type": "markdown",
   "id": "1cbaf135",
   "metadata": {},
   "source": [
    "### how to make our own metric..."
   ]
  },
  {
   "cell_type": "code",
   "execution_count": null,
   "id": "ca22a994",
   "metadata": {},
   "outputs": [],
   "source": [
    "def mape(y_true , y_pred):\n",
    "    y_true , y_pred = np.array(y_true) , np.array(y_pred)\n",
    "    return np.mean(np.abs((y_true - y_pred) / y_true)) * 100   "
   ]
  },
  {
   "cell_type": "code",
   "execution_count": null,
   "id": "38fa10a3",
   "metadata": {},
   "outputs": [],
   "source": [
    "mape(y_test, y_pred)"
   ]
  },
  {
   "cell_type": "markdown",
   "id": "04b02778",
   "metadata": {},
   "source": [
    "### How to automate ml pipeline !"
   ]
  },
  {
   "cell_type": "markdown",
   "id": "1c216558",
   "metadata": {},
   "source": [
    "### Model Building For Scaled Data"
   ]
  },
  {
   "cell_type": "code",
   "execution_count": null,
   "id": "da8c0618",
   "metadata": {},
   "outputs": [],
   "source": [
    "from sklearn.metrics import accuracy_score, f1_score, recall_score, precision_score, confusion_matrix"
   ]
  },
  {
   "cell_type": "code",
   "execution_count": null,
   "id": "2dbd1929",
   "metadata": {},
   "outputs": [],
   "source": [
    "evaluation_results = [] "
   ]
  },
  {
   "cell_type": "code",
   "execution_count": null,
   "id": "b0b9997b",
   "metadata": {},
   "outputs": [],
   "source": [
    "def evaluate_model(model, model_name, X_train, y_train, X_test, y_test):\n",
    "    # Training the model\n",
    "    model.fit(X_train, y_train)\n",
    "    \n",
    "    # Printing training score\n",
    "    training_score = model.score(X_train, y_train)\n",
    "    print(f'Training score : {training_score}')\n",
    "    \n",
    "    # Printing testing score\n",
    "    testing_score = model.score(X_test, y_test)\n",
    "    print(f'Testing score : {testing_score}')\n",
    "    \n",
    "    evaluation_results.append({\n",
    "        \"Model\": model_name,\n",
    "        \"Training Score\": training_score,\n",
    "        \"Testing Score\": testing_score,\n",
    "    })\n",
    "    # Making predictions on the test set\n",
    "    y_prediction = model.predict(X_test)\n",
    "    \n",
    "    # Printing predictions\n",
    "    print(f'Predictions are : {y_prediction}')\n",
    "    print('\\n')\n",
    "    \n",
    "    # Calculating and printing evaluation metrics\n",
    "    print(f'R2 score : {metrics.r2_score(y_test, y_prediction)}')\n",
    "    print(f'MAE : {metrics.mean_absolute_error(y_test, y_prediction)}')\n",
    "    print(f'MSE : {metrics.mean_squared_error(y_test, y_prediction)}')\n",
    "    print(f'RMSE : {np.sqrt(metrics.mean_squared_error(y_test, y_prediction))}')\n",
    "    print(f'MAPE : {mape(y_test, y_prediction)}')\n",
    "    \n",
    "    # Plotting the distribution of residuals with a colorful style\n",
    "    plt.figure(figsize=(12, 6))\n",
    "    sns.distplot(y_test - y_prediction, color='orange', hist_kws=dict(edgecolor=\"black\", linewidth=1))\n",
    "    plt.title('Residuals Distribution', fontsize=16, color='blue')\n",
    "    plt.xlabel('Residuals', fontsize=12, color='green')\n",
    "    plt.ylabel('Density', fontsize=12, color='purple')\n",
    "    plt.grid(axis='y', linestyle='--', alpha=0.7)\n",
    "    plt.xlim(-0.4, 0.4)\n",
    "    plt.ylim(0, 50)\n",
    "    plt.show()\n",
    "\n",
    "    # Model prediction details with colorful text\n",
    "    print(\"\\n------------------------------------------------------------------------\")\n",
    "    print(f\"Accuracy Score on Testing Data is: {accuracy_score(y_test, y_prediction) * 100:.2f}%\")\n",
    "    print(f\"Precision Score is: {precision_score(y_test, y_prediction)}\")\n",
    "    print(f\"Recall Score is: {recall_score(y_test, y_prediction)}\")\n",
    "    print(f\"F1 Score is: {f1_score(y_test, y_prediction)}\")\n",
    "    \n",
    "    # Confusion Matrix with a colorful heatmap\n",
    "    print(\"\\n------------------------------------------------------------------------\")\n",
    "    print(\"Confusion Matrix:\")\n",
    "    cm = confusion_matrix(y_test, y_prediction)\n",
    "    plt.figure(figsize=(8, 4))\n",
    "    sns.heatmap(cm, annot=True, fmt=\"g\", cmap=\"viridis\", linewidths=.5, cbar_kws={\"shrink\": 0.8})\n",
    "    plt.show()\n",
    "\n",
    "# Example usage:\n",
    "# evaluate_model_colorful(your_model, X_train1, y_train1, X_test1, y_test1)\n"
   ]
  },
  {
   "cell_type": "code",
   "execution_count": null,
   "id": "40334891",
   "metadata": {},
   "outputs": [],
   "source": [
    "# 1. Logistic-Regression Model"
   ]
  },
  {
   "cell_type": "code",
   "execution_count": null,
   "id": "75a1695f",
   "metadata": {},
   "outputs": [],
   "source": [
    "from sklearn.linear_model import LogisticRegression"
   ]
  },
  {
   "cell_type": "code",
   "execution_count": null,
   "id": "0a556c64",
   "metadata": {},
   "outputs": [],
   "source": [
    "evaluate_model(LogisticRegression(),'Logistic Regression', X_train1, y_train1, X_test1, y_test1)"
   ]
  },
  {
   "cell_type": "code",
   "execution_count": null,
   "id": "ff5c0bc1",
   "metadata": {},
   "outputs": [],
   "source": [
    "# 2. KNeighborsClassifier Model"
   ]
  },
  {
   "cell_type": "code",
   "execution_count": null,
   "id": "78509939",
   "metadata": {},
   "outputs": [],
   "source": [
    "from sklearn.neighbors import KNeighborsClassifier"
   ]
  },
  {
   "cell_type": "code",
   "execution_count": null,
   "id": "fa51f82e",
   "metadata": {},
   "outputs": [],
   "source": [
    "evaluate_model(KNeighborsClassifier(), 'KNN', X_train1, y_train1, X_test1, y_test1)"
   ]
  },
  {
   "cell_type": "code",
   "execution_count": null,
   "id": "8ca001d6",
   "metadata": {},
   "outputs": [],
   "source": [
    "# 3. Support-Vector-Classifier Model"
   ]
  },
  {
   "cell_type": "code",
   "execution_count": null,
   "id": "ea14bdd2",
   "metadata": {},
   "outputs": [],
   "source": [
    "from sklearn.svm import SVC"
   ]
  },
  {
   "cell_type": "code",
   "execution_count": null,
   "id": "fa07addc",
   "metadata": {},
   "outputs": [],
   "source": [
    "evaluate_model(SVC(), 'SVM', X_train1, y_train1, X_test1, y_test1)"
   ]
  },
  {
   "cell_type": "code",
   "execution_count": null,
   "id": "d026a622",
   "metadata": {},
   "outputs": [],
   "source": [
    "# 4. Naive-Bayes Model"
   ]
  },
  {
   "cell_type": "code",
   "execution_count": null,
   "id": "2c56460b",
   "metadata": {},
   "outputs": [],
   "source": [
    "from sklearn.naive_bayes import GaussianNB"
   ]
  },
  {
   "cell_type": "code",
   "execution_count": null,
   "id": "4649223f",
   "metadata": {},
   "outputs": [],
   "source": [
    "evaluate_model(GaussianNB(), 'Naive Bayes', X_train1, y_train1, X_test1, y_test1)"
   ]
  },
  {
   "cell_type": "markdown",
   "id": "c7dad46a",
   "metadata": {},
   "source": [
    "### Model Building For Un-Scaled Data"
   ]
  },
  {
   "cell_type": "code",
   "execution_count": null,
   "id": "0672c23a",
   "metadata": {},
   "outputs": [],
   "source": [
    "def evaluate_model(model, model_name, X_train, y_train, X_test, y_test):\n",
    "    # Training the model\n",
    "    model.fit(X_train, y_train)\n",
    "    \n",
    "    # Printing training score\n",
    "    training_score = model.score(X_train, y_train)\n",
    "    print(f'Training score : {training_score}')\n",
    "    \n",
    "    # Printing testing score\n",
    "    testing_score = model.score(X_test, y_test)\n",
    "    print(f'Testing score : {testing_score}')\n",
    "    \n",
    "    evaluation_results.append({\n",
    "        \"Model\": model_name,\n",
    "        \"Training Score\": training_score,\n",
    "        \"Testing Score\": testing_score,\n",
    "    })\n",
    "    # Making predictions on the test set\n",
    "    y_prediction = model.predict(X_test)\n",
    "    \n",
    "    # Printing predictions\n",
    "    print(f'Predictions are : {y_prediction}')\n",
    "    print('\\n')\n",
    "    \n",
    "    # Calculating and printing evaluation metrics\n",
    "    print(f'R2 score : {metrics.r2_score(y_test, y_prediction)}')\n",
    "    print(f'MAE : {metrics.mean_absolute_error(y_test, y_prediction)}')\n",
    "    print(f'MSE : {metrics.mean_squared_error(y_test, y_prediction)}')\n",
    "    print(f'RMSE : {np.sqrt(metrics.mean_squared_error(y_test, y_prediction))}')\n",
    "    print(f'MAPE : {mape(y_test, y_prediction)}')\n",
    "    \n",
    "    # Plotting the distribution of residuals with a colorful style\n",
    "    plt.figure(figsize=(12, 6))\n",
    "    sns.distplot(y_test - y_prediction, color='orange', hist_kws=dict(edgecolor=\"black\", linewidth=1))\n",
    "    plt.title('Residuals Distribution', fontsize=16, color='blue')\n",
    "    plt.xlabel('Residuals', fontsize=12, color='green')\n",
    "    plt.ylabel('Density', fontsize=12, color='purple')\n",
    "    plt.grid(axis='y', linestyle='--', alpha=0.7)\n",
    "    plt.xlim(-0.4, 0.4)\n",
    "    plt.ylim(0, 50)\n",
    "    plt.show()\n",
    "\n",
    "    # Model prediction details with colorful text\n",
    "    print(\"\\n------------------------------------------------------------------------\")\n",
    "    print(f\"Accuracy Score on Testing Data is: {accuracy_score(y_test, y_prediction) * 100:.2f}%\")\n",
    "    print(f\"Precision Score is: {precision_score(y_test, y_prediction)}\")\n",
    "    print(f\"Recall Score is: {recall_score(y_test, y_prediction)}\")\n",
    "    print(f\"F1 Score is: {f1_score(y_test, y_prediction)}\")\n",
    "    \n",
    "    # Confusion Matrix with a colorful heatmap\n",
    "    print(\"\\n------------------------------------------------------------------------\")\n",
    "    print(\"Confusion Matrix:\")\n",
    "    cm = confusion_matrix(y_test, y_prediction)\n",
    "    plt.figure(figsize=(8, 4))\n",
    "    sns.heatmap(cm, annot=True, fmt=\"g\", cmap=\"viridis\", linewidths=.5, cbar_kws={\"shrink\": 0.8})\n",
    "    plt.show()\n",
    "\n",
    "# Example usage:\n",
    "# evaluate_model_colorful(your_model, X_train1, y_train1, X_test1, y_test1)\n"
   ]
  },
  {
   "cell_type": "code",
   "execution_count": null,
   "id": "be38141f",
   "metadata": {},
   "outputs": [],
   "source": [
    "# 5. Decision-Tree-Classifier Model"
   ]
  },
  {
   "cell_type": "code",
   "execution_count": null,
   "id": "dd2d8c16",
   "metadata": {},
   "outputs": [],
   "source": [
    "from sklearn.tree import DecisionTreeClassifier"
   ]
  },
  {
   "cell_type": "code",
   "execution_count": null,
   "id": "65ca114e",
   "metadata": {},
   "outputs": [],
   "source": [
    "evaluate_model(DecisionTreeClassifier(), 'Descision Tree', X_train, y_train, X_test, y_test)"
   ]
  },
  {
   "cell_type": "code",
   "execution_count": null,
   "id": "6e7b49b2",
   "metadata": {},
   "outputs": [],
   "source": [
    "# 6. Random-Forest-Classifier Model"
   ]
  },
  {
   "cell_type": "code",
   "execution_count": null,
   "id": "f16d1c1e",
   "metadata": {},
   "outputs": [],
   "source": [
    "from sklearn.ensemble import RandomForestClassifier"
   ]
  },
  {
   "cell_type": "code",
   "execution_count": null,
   "id": "1d440432",
   "metadata": {},
   "outputs": [],
   "source": [
    "evaluate_model(RandomForestClassifier(), 'Random Forest', X_train, y_train, X_test, y_test)"
   ]
  },
  {
   "cell_type": "code",
   "execution_count": null,
   "id": "d807bed2",
   "metadata": {},
   "outputs": [],
   "source": [
    "# 7. Ada-Boost-Classifier Model"
   ]
  },
  {
   "cell_type": "code",
   "execution_count": null,
   "id": "3fa0a5c8",
   "metadata": {},
   "outputs": [],
   "source": [
    "from sklearn.ensemble import AdaBoostClassifier"
   ]
  },
  {
   "cell_type": "code",
   "execution_count": null,
   "id": "17ebc202",
   "metadata": {},
   "outputs": [],
   "source": [
    "evaluate_model(AdaBoostClassifier(), 'Ada Boost', X_train, y_train, X_test, y_test)"
   ]
  },
  {
   "cell_type": "code",
   "execution_count": null,
   "id": "565c0bc2",
   "metadata": {},
   "outputs": [],
   "source": [
    "# 8. Gradient-Boosting-Classifier Model"
   ]
  },
  {
   "cell_type": "code",
   "execution_count": null,
   "id": "467d917b",
   "metadata": {},
   "outputs": [],
   "source": [
    "from sklearn.ensemble import GradientBoostingClassifier"
   ]
  },
  {
   "cell_type": "code",
   "execution_count": null,
   "id": "50183b68",
   "metadata": {},
   "outputs": [],
   "source": [
    "evaluate_model(GradientBoostingClassifier(), 'Gradient Boost', X_train, y_train, X_test, y_test)"
   ]
  },
  {
   "cell_type": "code",
   "execution_count": null,
   "id": "b83aa118",
   "metadata": {},
   "outputs": [],
   "source": [
    "# 9. LGMB Classifier Model"
   ]
  },
  {
   "cell_type": "code",
   "execution_count": null,
   "id": "44c4c501",
   "metadata": {},
   "outputs": [],
   "source": [
    "from lightgbm import LGBMClassifier"
   ]
  },
  {
   "cell_type": "code",
   "execution_count": null,
   "id": "e4eb9109",
   "metadata": {},
   "outputs": [],
   "source": [
    "evaluate_model(LGBMClassifier(),'LGBM', X_train, y_train, X_test, y_test)"
   ]
  },
  {
   "cell_type": "code",
   "execution_count": null,
   "id": "df5d8481",
   "metadata": {},
   "outputs": [],
   "source": [
    "# 10. XGBClassifier Model"
   ]
  },
  {
   "cell_type": "code",
   "execution_count": null,
   "id": "b1d52aba",
   "metadata": {},
   "outputs": [],
   "source": [
    "from xgboost import XGBClassifier"
   ]
  },
  {
   "cell_type": "code",
   "execution_count": null,
   "id": "9dfee720",
   "metadata": {},
   "outputs": [],
   "source": [
    "evaluate_model(XGBClassifier(),'XG Boost', X_train, y_train, X_test, y_test)"
   ]
  },
  {
   "cell_type": "code",
   "execution_count": null,
   "id": "6dc0911a",
   "metadata": {},
   "outputs": [],
   "source": [
    "# 11. Cat-Boost-Classifier Model"
   ]
  },
  {
   "cell_type": "code",
   "execution_count": null,
   "id": "137bb79e",
   "metadata": {},
   "outputs": [],
   "source": [
    "from catboost import CatBoostClassifier"
   ]
  },
  {
   "cell_type": "code",
   "execution_count": null,
   "id": "83c9be84",
   "metadata": {},
   "outputs": [],
   "source": [
    "evaluate_model(CatBoostClassifier(),'Cat Boost', X_train, y_train, X_test, y_test)"
   ]
  },
  {
   "cell_type": "markdown",
   "id": "c6b0ae5e",
   "metadata": {},
   "source": [
    "### All Model Performance Comparison"
   ]
  },
  {
   "cell_type": "code",
   "execution_count": null,
   "id": "68b3cee2",
   "metadata": {},
   "outputs": [],
   "source": [
    "df_results = pd.DataFrame(evaluation_results)"
   ]
  },
  {
   "cell_type": "code",
   "execution_count": null,
   "id": "de013fc7",
   "metadata": {},
   "outputs": [],
   "source": [
    "df_results"
   ]
  },
  {
   "cell_type": "code",
   "execution_count": null,
   "id": "0362c7bd",
   "metadata": {},
   "outputs": [],
   "source": [
    "df_results.plot(x=\"Model\",y=[\"Training Score\",\"Testing Score\"], figsize=(16,6),kind=\"bar\",\n",
    "        title=\"Performance Visualization of Different Models\",colormap=\"Set3\")\n",
    "plt.show()"
   ]
  },
  {
   "cell_type": "markdown",
   "id": "3cbb406a",
   "metadata": {},
   "source": [
    "### Hyper-Parameter Tunning of LGBM Model"
   ]
  },
  {
   "cell_type": "code",
   "execution_count": null,
   "id": "aca653a2",
   "metadata": {},
   "outputs": [],
   "source": [
    "model1 = LGBMClassifier()"
   ]
  },
  {
   "cell_type": "code",
   "execution_count": null,
   "id": "7f346a79",
   "metadata": {},
   "outputs": [],
   "source": [
    "parameters1 = {\"n_estimators\":[100,300,500,600,650],\n",
    "              \"learning_rate\":[0.01,0.02,0.03],\n",
    "              \"random_state\":[0,42,48,50],\n",
    "               \"num_leaves\":[16,17,18]}     "
   ]
  },
  {
   "cell_type": "code",
   "execution_count": null,
   "id": "1bd88153",
   "metadata": {},
   "outputs": [],
   "source": [
    "from sklearn.model_selection import GridSearchCV, RandomizedSearchCV\n",
    "# When search space is small & computational resources are enough ==> Grid Search\n",
    "# When search space is large & computational resources are limited ==> Random Search"
   ]
  },
  {
   "cell_type": "code",
   "execution_count": null,
   "id": "15e903f4",
   "metadata": {},
   "outputs": [],
   "source": [
    "grid_search1 = GridSearchCV(model1, parameters1, cv=5, n_jobs=-1)"
   ]
  },
  {
   "cell_type": "code",
   "execution_count": null,
   "id": "0d7d3b96",
   "metadata": {},
   "outputs": [],
   "source": [
    "grid_search1.fit(X_train,y_train.values.ravel())"
   ]
  },
  {
   "cell_type": "code",
   "execution_count": null,
   "id": "90a48891",
   "metadata": {},
   "outputs": [],
   "source": [
    "grid_search1.best_score_"
   ]
  },
  {
   "cell_type": "code",
   "execution_count": null,
   "id": "6280d3b5",
   "metadata": {},
   "outputs": [],
   "source": [
    "best_parameters1 = grid_search1.best_params_\n",
    "best_parameters1"
   ]
  },
  {
   "cell_type": "code",
   "execution_count": null,
   "id": "bdfd78bc",
   "metadata": {},
   "outputs": [],
   "source": [
    "# Creating LGBM Model Using Best Parameters."
   ]
  },
  {
   "cell_type": "code",
   "execution_count": null,
   "id": "405340b0",
   "metadata": {},
   "outputs": [],
   "source": [
    "model1 = LGBMClassifier(**best_parameters1)"
   ]
  },
  {
   "cell_type": "code",
   "execution_count": null,
   "id": "bdd836d6",
   "metadata": {},
   "outputs": [],
   "source": [
    "model1.fit(X_train,y_train)"
   ]
  },
  {
   "cell_type": "code",
   "execution_count": null,
   "id": "55980a79",
   "metadata": {},
   "outputs": [],
   "source": [
    "X_test_pred1 = model1.predict(X_test)"
   ]
  },
  {
   "cell_type": "code",
   "execution_count": null,
   "id": "cdd05bc7",
   "metadata": {},
   "outputs": [],
   "source": [
    "accuracy_score(y_test,X_test_pred1)"
   ]
  },
  {
   "cell_type": "markdown",
   "id": "80018b54",
   "metadata": {},
   "source": [
    "### Hyper-Parameter Tunning of CatBoost Model"
   ]
  },
  {
   "cell_type": "code",
   "execution_count": null,
   "id": "b300a173",
   "metadata": {},
   "outputs": [],
   "source": [
    "model2 = CatBoostClassifier(verbose=False)"
   ]
  },
  {
   "cell_type": "code",
   "execution_count": null,
   "id": "9412e816",
   "metadata": {},
   "outputs": [],
   "source": [
    "parameters2 = {\"learning_rate\":[0.1,0.3,0.5,0.6,0.7],\n",
    "              \"random_state\":[0,42,48,50],\n",
    "               \"depth\":[8,9,10],\n",
    "               \"iterations\":[35,40,50]}"
   ]
  },
  {
   "cell_type": "code",
   "execution_count": null,
   "id": "bebfd214",
   "metadata": {},
   "outputs": [],
   "source": [
    "grid_search2 = GridSearchCV(model2, parameters2, cv=5, n_jobs=-1)"
   ]
  },
  {
   "cell_type": "code",
   "execution_count": null,
   "id": "2b8fe861",
   "metadata": {},
   "outputs": [],
   "source": [
    "grid_search2.fit(X_train,y_train)"
   ]
  },
  {
   "cell_type": "code",
   "execution_count": null,
   "id": "ec87262e",
   "metadata": {},
   "outputs": [],
   "source": [
    "grid_search2.best_score_"
   ]
  },
  {
   "cell_type": "code",
   "execution_count": null,
   "id": "8d9246c4",
   "metadata": {},
   "outputs": [],
   "source": [
    "best_parameters2 = grid_search2.best_params_\n",
    "best_parameters2"
   ]
  },
  {
   "cell_type": "code",
   "execution_count": null,
   "id": "659696ca",
   "metadata": {},
   "outputs": [],
   "source": [
    "# Creating Cat Boost Model Using Best Parameters"
   ]
  },
  {
   "cell_type": "code",
   "execution_count": null,
   "id": "fbcdb1ee",
   "metadata": {},
   "outputs": [],
   "source": [
    "model2 = CatBoostClassifier(**best_parameters2,verbose=False)"
   ]
  },
  {
   "cell_type": "code",
   "execution_count": null,
   "id": "7f7a9aca",
   "metadata": {},
   "outputs": [],
   "source": [
    "model2.fit(X_train,y_train)"
   ]
  },
  {
   "cell_type": "code",
   "execution_count": null,
   "id": "882f0807",
   "metadata": {},
   "outputs": [],
   "source": [
    "X_test_pred2 = model2.predict(X_test)"
   ]
  },
  {
   "cell_type": "code",
   "execution_count": null,
   "id": "ab2918ad",
   "metadata": {},
   "outputs": [],
   "source": [
    "accuracy_score(y_test,X_test_pred2)"
   ]
  },
  {
   "cell_type": "markdown",
   "id": "3687cfe3",
   "metadata": {},
   "source": [
    "### Hyper-Parameter Tunning of XGBoost Model"
   ]
  },
  {
   "cell_type": "code",
   "execution_count": null,
   "id": "b767c9bf",
   "metadata": {},
   "outputs": [],
   "source": [
    "model3 = XGBClassifier()"
   ]
  },
  {
   "cell_type": "code",
   "execution_count": null,
   "id": "19f7eff6",
   "metadata": {},
   "outputs": [],
   "source": [
    "parameters3 = {\"n_estimators\":[50,100,150],\n",
    "             \"random_state\":[0,42,50],\n",
    "             \"learning_rate\":[0.1,0.3,0.5,1.0]}"
   ]
  },
  {
   "cell_type": "code",
   "execution_count": null,
   "id": "97524705",
   "metadata": {},
   "outputs": [],
   "source": [
    "grid_search3 = GridSearchCV(model3, parameters3 , cv=5, n_jobs=-1)"
   ]
  },
  {
   "cell_type": "code",
   "execution_count": null,
   "id": "1a5f52f4",
   "metadata": {},
   "outputs": [],
   "source": [
    "grid_search3.fit(X_train,y_train)"
   ]
  },
  {
   "cell_type": "code",
   "execution_count": null,
   "id": "0ed1c620",
   "metadata": {},
   "outputs": [],
   "source": [
    "grid_search3.best_score_"
   ]
  },
  {
   "cell_type": "code",
   "execution_count": null,
   "id": "84025b61",
   "metadata": {},
   "outputs": [],
   "source": [
    "best_parameters3 = grid_search3.best_params_\n",
    "best_parameters3"
   ]
  },
  {
   "cell_type": "code",
   "execution_count": null,
   "id": "604e7f07",
   "metadata": {},
   "outputs": [],
   "source": [
    "# Creating XGBoost Model Using Best Parameters"
   ]
  },
  {
   "cell_type": "code",
   "execution_count": null,
   "id": "c78d15d9",
   "metadata": {},
   "outputs": [],
   "source": [
    "model3 = XGBClassifier(**best_parameters3)"
   ]
  },
  {
   "cell_type": "code",
   "execution_count": null,
   "id": "7f509dbc",
   "metadata": {},
   "outputs": [],
   "source": [
    "model3.fit(X_train,y_train)"
   ]
  },
  {
   "cell_type": "code",
   "execution_count": null,
   "id": "43bdd211",
   "metadata": {},
   "outputs": [],
   "source": [
    "X_test_pred3 = model3.predict(X_test)"
   ]
  },
  {
   "cell_type": "code",
   "execution_count": null,
   "id": "c39ad114",
   "metadata": {},
   "outputs": [],
   "source": [
    "accuracy_score(y_test,X_test_pred3) "
   ]
  },
  {
   "cell_type": "markdown",
   "id": "ceb5bc30",
   "metadata": {},
   "source": [
    "### Hyper Parameter Tunning of RandomForest Model"
   ]
  },
  {
   "cell_type": "code",
   "execution_count": null,
   "id": "d846d2df",
   "metadata": {},
   "outputs": [],
   "source": [
    "model4 = RandomForestClassifier()"
   ]
  },
  {
   "cell_type": "code",
   "execution_count": null,
   "id": "a1bd7663",
   "metadata": {},
   "outputs": [],
   "source": [
    "parameters4 = {'n_estimators': [100,300,500,550],\n",
    "               'min_samples_split':[7,8,9],\n",
    "               'max_depth': [10,11,12], \n",
    "               'min_samples_leaf':[4,5,6]}"
   ]
  },
  {
   "cell_type": "code",
   "execution_count": null,
   "id": "2629b613",
   "metadata": {},
   "outputs": [],
   "source": [
    "grid_search4 = GridSearchCV(model4, parameters4, cv=5, n_jobs=-1)"
   ]
  },
  {
   "cell_type": "code",
   "execution_count": null,
   "id": "bd51517d",
   "metadata": {},
   "outputs": [],
   "source": [
    "grid_search4.fit(X_train,y_train.values.ravel())"
   ]
  },
  {
   "cell_type": "code",
   "execution_count": null,
   "id": "e30e1bc4",
   "metadata": {},
   "outputs": [],
   "source": [
    "grid_search4.best_score_"
   ]
  },
  {
   "cell_type": "code",
   "execution_count": null,
   "id": "7b9b1466",
   "metadata": {},
   "outputs": [],
   "source": [
    "best_parameters4 = grid_search4.best_params_\n",
    "best_parameters4"
   ]
  },
  {
   "cell_type": "code",
   "execution_count": null,
   "id": "2fccf854",
   "metadata": {},
   "outputs": [],
   "source": [
    "# Creating Random Forest Model Using Best Parameters"
   ]
  },
  {
   "cell_type": "code",
   "execution_count": null,
   "id": "fe482d26",
   "metadata": {},
   "outputs": [],
   "source": [
    "model4 = RandomForestClassifier(**best_parameters4)"
   ]
  },
  {
   "cell_type": "code",
   "execution_count": null,
   "id": "00dfc31b",
   "metadata": {},
   "outputs": [],
   "source": [
    "model4.fit(X_train,y_train)"
   ]
  },
  {
   "cell_type": "code",
   "execution_count": null,
   "id": "bc4ea8a1",
   "metadata": {},
   "outputs": [],
   "source": [
    "X_test_pred4 = model4.predict(X_test)"
   ]
  },
  {
   "cell_type": "code",
   "execution_count": null,
   "id": "7a26b325",
   "metadata": {},
   "outputs": [],
   "source": [
    "accuracy_score(y_test,X_test_pred4)"
   ]
  },
  {
   "cell_type": "markdown",
   "id": "c9e97ca9",
   "metadata": {},
   "source": [
    "### Stacking Classifier Model"
   ]
  },
  {
   "cell_type": "code",
   "execution_count": null,
   "id": "65a956a8",
   "metadata": {},
   "outputs": [],
   "source": [
    "from sklearn.ensemble import StackingClassifier"
   ]
  },
  {
   "cell_type": "code",
   "execution_count": null,
   "id": "22f6aab8",
   "metadata": {},
   "outputs": [],
   "source": [
    "stacking_model = StackingClassifier(estimators=[('LGBM', model1), \n",
    "                                                ('CAT Boost', model2),\n",
    "                                                (\"XGBoost\", model3),\n",
    "                                                ('RF', model4)])"
   ]
  },
  {
   "cell_type": "code",
   "execution_count": null,
   "id": "b30315dd",
   "metadata": {},
   "outputs": [],
   "source": [
    "stacking_model.fit(X_train, y_train)"
   ]
  },
  {
   "cell_type": "code",
   "execution_count": null,
   "id": "be5c30f9",
   "metadata": {},
   "outputs": [],
   "source": [
    "X_train_pred5 = stacking_model.predict(X_train)"
   ]
  },
  {
   "cell_type": "code",
   "execution_count": null,
   "id": "49f02448",
   "metadata": {},
   "outputs": [],
   "source": [
    "X_test_pred5 = stacking_model.predict(X_test)"
   ]
  },
  {
   "cell_type": "code",
   "execution_count": null,
   "id": "8b2986a0",
   "metadata": {},
   "outputs": [],
   "source": [
    "print(f\"Stacking Model accuracy on Training Data is: {accuracy_score(y_train,X_train_pred5)*100:.2f}%\")"
   ]
  },
  {
   "cell_type": "code",
   "execution_count": null,
   "id": "e9766909",
   "metadata": {},
   "outputs": [],
   "source": [
    "print(f\"Stacking Model accuracy on Testing Data is: {accuracy_score(y_test,X_test_pred5)*100:.2f}%\")"
   ]
  }
 ],
 "metadata": {
  "kernelspec": {
   "display_name": "Python 3 (ipykernel)",
   "language": "python",
   "name": "python3"
  },
  "language_info": {
   "codemirror_mode": {
    "name": "ipython",
    "version": 3
   },
   "file_extension": ".py",
   "mimetype": "text/x-python",
   "name": "python",
   "nbconvert_exporter": "python",
   "pygments_lexer": "ipython3",
   "version": "3.10.12"
  }
 },
 "nbformat": 4,
 "nbformat_minor": 5
}
